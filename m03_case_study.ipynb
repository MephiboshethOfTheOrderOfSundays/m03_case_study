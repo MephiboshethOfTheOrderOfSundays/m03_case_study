{
 "cells": [
  {
   "cell_type": "markdown",
   "id": "9297c5a9",
   "metadata": {},
   "source": [
    "# Joseph John Justin David McClamrock\n",
    "# m03_case_study.ipynb\n",
    "#### This application will take in and display data about a vehicle.\n",
    "#### Variable list:\n",
    "#### • type: String. Tells whether the vehicle is a car or something else.\n",
    "#### • year: String. Tells what year the car was released.\n",
    "#### • make: String. Tells the car's make, such as Honda.\n",
    "#### • model: String. Tells the car's model, such as Civic.\n",
    "#### • doors: Int. Tells whether the car is two-door or four-door.\n",
    "#### • roof: String. Tells whether the car has a solid roof or sun roof."
   ]
  },
  {
   "cell_type": "code",
   "execution_count": 1,
   "id": "2f281a6f",
   "metadata": {},
   "outputs": [],
   "source": [
    "class Vehicle:\n",
    "    def __init__(self, type):\n",
    "        self.type = type\n",
    "class Automobile(Vehicle):\n",
    "    def __init__(self, type, year, make, model, doors, roof):\n",
    "        super().__init__(type)\n",
    "        self.year = year\n",
    "        self.make = make\n",
    "        self.model = model\n",
    "        self.doors = doors\n",
    "        self.roof = roof"
   ]
  },
  {
   "cell_type": "code",
   "execution_count": 2,
   "id": "0a3cf752",
   "metadata": {},
   "outputs": [
    {
     "name": "stdout",
     "output_type": "stream",
     "text": [
      "Enter the type of vehicle: car\n",
      "Year: 1998\n",
      "Make: Honda\n",
      "Model: Civic\n",
      "Doors (2 or 4): 2\n",
      "Roof (solid or sun roof): solid\n",
      "Vehicle type:  car\n",
      "Year:  1998\n",
      "Make:  Honda\n",
      "Model:  Civic\n",
      "Doors:  2\n",
      "Roof type:  solid\n"
     ]
    }
   ],
   "source": [
    "Vehicle.type= input(\"Enter the type of vehicle: \")\n",
    "Automobile.year= input(\"Year: \")\n",
    "Automobile.make= input(\"Make: \")\n",
    "Automobile.model= input(\"Model: \")\n",
    "Automobile.doors= input(\"Doors (2 or 4): \")\n",
    "Automobile.roof= input(\"Roof (solid or sun roof): \")\n",
    "UserCar = Automobile(Vehicle.type, Automobile.year, Automobile.make, Automobile.model, Automobile.doors, Automobile.roof)\n",
    "print(\"Vehicle type: \", Vehicle.type)\n",
    "print(\"Year: \", Automobile.year)\n",
    "print(\"Make: \", Automobile.make)\n",
    "print(\"Model: \", Automobile.model)\n",
    "print(\"Doors: \", Automobile.doors)\n",
    "print(\"Roof type: \", Automobile.roof)"
   ]
  }
 ],
 "metadata": {
  "kernelspec": {
   "display_name": "Python 3 (ipykernel)",
   "language": "python",
   "name": "python3"
  },
  "language_info": {
   "codemirror_mode": {
    "name": "ipython",
    "version": 3
   },
   "file_extension": ".py",
   "mimetype": "text/x-python",
   "name": "python",
   "nbconvert_exporter": "python",
   "pygments_lexer": "ipython3",
   "version": "3.10.9"
  }
 },
 "nbformat": 4,
 "nbformat_minor": 5
}
